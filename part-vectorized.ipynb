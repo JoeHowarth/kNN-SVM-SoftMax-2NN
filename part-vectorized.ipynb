{
 "cells": [
  {
   "cell_type": "code",
   "execution_count": 1,
   "metadata": {
    "collapsed": true
   },
   "outputs": [],
   "source": [
    "import numpy as np\n",
    "import math"
   ]
  },
  {
   "cell_type": "code",
   "execution_count": null,
   "metadata": {
    "collapsed": true
   },
   "outputs": [],
   "source": []
  },
  {
   "cell_type": "code",
   "execution_count": 2,
   "metadata": {
    "collapsed": true
   },
   "outputs": [],
   "source": [
    "def compute_distances_one_loop(X_train, X):\n",
    "        num_test = X.shape[0]\n",
    "        num_train = X_train.shape[0]\n",
    "        dists = np.zeros((num_test, num_train))\n",
    "        for i in xrange(num_test):\n",
    "            diff_matrix =  X_train - X[i]\n",
    "            sqrd_mag = np.linalg.norm(diff_matrix, axis=1)\n",
    "            dists[i, :] = np.sqrt(sqrd_mag)\n",
    "        return dists"
   ]
  },
  {
   "cell_type": "code",
   "execution_count": 6,
   "metadata": {
    "collapsed": false
   },
   "outputs": [
    {
     "name": "stdout",
     "output_type": "stream",
     "text": [
      "[[1 2]\n",
      " [3 4]\n",
      " [5 6]\n",
      " [7 8]]\n",
      "\n",
      "[[0 1]\n",
      " [2 3]\n",
      " [4 5]]\n"
     ]
    }
   ],
   "source": [
    "X_train = np.arange(0, 16, 2).reshape(4,2)\n",
    "X_train = np.arange(1, 9, 1).reshape(4,2)\n",
    "X = np.arange(0, 6, 1).reshape(3,2)\n",
    "print X_train\n",
    "print \n",
    "print X"
   ]
  },
  {
   "cell_type": "code",
   "execution_count": 11,
   "metadata": {
    "collapsed": false,
    "scrolled": false
   },
   "outputs": [
    {
     "name": "stdout",
     "output_type": "stream",
     "text": [
      "[[  4   8  12  16]\n",
      " [ 16  36  56  76]\n",
      " [ 28  64 100 136]]\n",
      "[[  6  26  62 114]\n",
      " [ 18  38  74 126]\n",
      " [ 46  66 102 154]]\n",
      "[[ 1.18920712  2.05976714  2.65914795  3.14634628]\n",
      " [ 1.18920712  1.18920712  2.05976714  2.65914795]\n",
      " [ 2.05976714  1.18920712  1.18920712  2.05976714]]\n"
     ]
    }
   ],
   "source": [
    "    num_test = X.shape[0]\n",
    "    num_train = X_train.shape[0]\n",
    "    dists = np.zeros((num_test, num_train)) \n",
    "\n",
    "    tr2 = (X_train ** 2).sum(axis = 1).reshape(1, X_train.shape[0])\n",
    "    tst2 = (X ** 2).T.sum(axis = 0).reshape(X.shape[0],1)\n",
    "\n",
    "    AxB = 2 * np.matmul(X, X_train.T)\n",
    "    print AxB\n",
    "    a2pb2 = tst2 + tr2\n",
    "    print a2pb2\n",
    "    dists = np.sqrt(np.sqrt(np.abs(a2pb2 - AxB)))\n",
    "    print dists"
   ]
  },
  {
   "cell_type": "code",
   "execution_count": 12,
   "metadata": {
    "collapsed": false,
    "scrolled": true
   },
   "outputs": [
    {
     "name": "stdout",
     "output_type": "stream",
     "text": [
      "[[ 1.41421356  4.24264069  7.07106781  9.89949494]\n",
      " [ 1.41421356  1.41421356  4.24264069  7.07106781]\n",
      " [ 4.24264069  1.41421356  1.41421356  4.24264069]]\n",
      "[[ 1.41421356  4.24264069  7.07106781  9.89949494]\n",
      " [ 1.41421356  1.41421356  4.24264069  7.07106781]\n",
      " [ 4.24264069  1.41421356  1.41421356  4.24264069]]\n",
      "Difference was: 0.000000\n",
      "Good! The distance matrices are the same\n"
     ]
    }
   ],
   "source": [
    "# Now implement the fully vectorized version inside compute_distances_no_loops\n",
    "# and run the code\n",
    "dists_one = compute_distances_one_loop(X_train, X)\n",
    "print dists_one**2\n",
    "print dists**2\n",
    "\n",
    "# check that the distance matrix agrees with the one we computed before:\n",
    "difference = np.linalg.norm(dists - dists_one, ord='fro')\n",
    "print 'Difference was: %f' % (difference, )\n",
    "if difference < 0.001:\n",
    "  print 'Good! The distance matrices are the same'\n",
    "else:\n",
    "  print 'Uh-oh! The distance matrices are different'"
   ]
  },
  {
   "cell_type": "code",
   "execution_count": null,
   "metadata": {
    "collapsed": true
   },
   "outputs": [],
   "source": []
  },
  {
   "cell_type": "code",
   "execution_count": null,
   "metadata": {
    "collapsed": true
   },
   "outputs": [],
   "source": []
  },
  {
   "cell_type": "code",
   "execution_count": null,
   "metadata": {
    "collapsed": true
   },
   "outputs": [],
   "source": []
  },
  {
   "cell_type": "markdown",
   "metadata": {
    "collapsed": false
   },
   "source": [
    "num_test = X.shape[0]\n",
    "num_train = X_train.shape[0]\n",
    "dists = np.zeros((num_test, num_train)) \n",
    "\n",
    "tr2 = (X_train ** 2).sum(axis = 1).reshape(1, X_train.shape[0])\n",
    "tst2 = (X ** 2).T.sum(axis = 0).reshape(X.shape[0],1)\n",
    "\n",
    "#print tr2 #print tst2 #print X_train, \"\\n\\n\", X\n",
    "AxB = 2 * np.matmul(X_train, X)\n",
    "\n",
    "#print \"\\n2 * AxB:\\n\", AxB #print\n",
    "a2xb2 = tst2 + tr2\n",
    "\n",
    "dists = np.sqrt(np.abs(a2xb2 - AxB.T))\n",
    "\n",
    "print dists\n",
    "#print tr2, tr2.shape,  \"\\n\" #print tst2, \"\\n\", tst2.shape"
   ]
  }
 ],
 "metadata": {
  "kernelspec": {
   "display_name": "Python 2",
   "language": "python",
   "name": "python2"
  },
  "language_info": {
   "codemirror_mode": {
    "name": "ipython",
    "version": 2
   },
   "file_extension": ".py",
   "mimetype": "text/x-python",
   "name": "python",
   "nbconvert_exporter": "python",
   "pygments_lexer": "ipython2",
   "version": "2.7.13"
  }
 },
 "nbformat": 4,
 "nbformat_minor": 2
}
