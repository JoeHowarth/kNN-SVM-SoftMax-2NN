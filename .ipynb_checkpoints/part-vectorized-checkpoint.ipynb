{
 "cells": [
  {
   "cell_type": "code",
   "execution_count": 2,
   "metadata": {
    "collapsed": true
   },
   "outputs": [],
   "source": [
    "import numpy as np\n",
    "import math"
   ]
  },
  {
   "cell_type": "code",
   "execution_count": null,
   "metadata": {
    "collapsed": true
   },
   "outputs": [],
   "source": []
  },
  {
   "cell_type": "code",
   "execution_count": 3,
   "metadata": {
    "collapsed": true
   },
   "outputs": [],
   "source": [
    "def compute_distances_one_loop(self, X):\n",
    "        \"\"\"\n",
    "        Compute the distance between each test point in X and each training point\n",
    "        in self.X_train using a single loop over the test data.\n",
    "\n",
    "        Input / Output: Same as compute_distances_two_loops\n",
    "        \"\"\"\n",
    "        num_test = X.shape[0]\n",
    "        num_train = self.X_train.shape[0]\n",
    "        dists = np.zeros((num_test, num_train))\n",
    "        for i in xrange(num_test):\n",
    "            \n",
    "            #######################################################################\n",
    "            # TODO:                                                               #\n",
    "            # Compute the l2 distance between the ith test point and all training #\n",
    "            # points, and store the result in dists[i, :].                        #\n",
    "            #######################################################################\n",
    "            \n",
    "            print self.X_train[i]\n",
    "            diff_matrix = X - self.X_train[i]\n",
    "            sqrd_mag = np.linalg.norm(diff_matrix)\n",
    "            math.sqrt(sqrd_mag)\n",
    "            dists[i, :] = math.sqrt(np.linalg.norm(X - self.X_train[i]))\n",
    "            \n",
    "            #######################################################################\n",
    "            #                         END OF YOUR CODE                            #\n",
    "            #######################################################################\n",
    "        return dists"
   ]
  },
  {
   "cell_type": "code",
   "execution_count": 44,
   "metadata": {
    "collapsed": false
   },
   "outputs": [
    {
     "name": "stdout",
     "output_type": "stream",
     "text": [
      "[[ 0  2]\n",
      " [ 4  6]\n",
      " [ 8 10]\n",
      " [12 14]]\n",
      "\n",
      "[[0 1]\n",
      " [2 3]]\n",
      "\n"
     ]
    }
   ],
   "source": [
    "X_train = np.arange(0, 16, 2)\n",
    "X = np.arange(0, 4, 1)\n",
    "\n",
    "X_train = X_train.reshape(4,2)\n",
    "X = X.reshape(2,2)\n",
    "print X_train\n",
    "print \n",
    "print X\n",
    "print"
   ]
  },
  {
   "cell_type": "code",
   "execution_count": 43,
   "metadata": {
    "collapsed": false
   },
   "outputs": [
    {
     "name": "stdout",
     "output_type": "stream",
     "text": [
      "[[  -4   28  124  284]\n",
      " [  40  632 2056 4312]]\n"
     ]
    }
   ],
   "source": [
    "\n",
    "num_test = X.shape[0]\n",
    "num_train = X_train.shape[0]\n",
    "dists = np.zeros((num_test, num_train)) \n",
    "\n",
    "tr2 = (X_train ** 2).sum(axis = 1).reshape(1, X_train.shape[0])\n",
    "tst2 = (X ** 2).T.sum(axis = 0).reshape(X.shape[0],1)\n",
    "\n",
    "AxB = 2 * np.matmul(X_train, X)\n",
    "\n",
    "a2xb2 = np.matmul(tst2, tr2)\n",
    "\n",
    "dists = a2xb2 - AxB.T\n",
    "\n",
    "print dists\n",
    "\n",
    "#print tr2, tr2.shape,  \"\\n\"\n",
    "#print tst2, \"\\n\", tst2.shape\n"
   ]
  },
  {
   "cell_type": "code",
   "execution_count": 27,
   "metadata": {
    "collapsed": false
   },
   "outputs": [
    {
     "ename": "SyntaxError",
     "evalue": "invalid syntax (<ipython-input-27-9d103547ca73>, line 1)",
     "output_type": "error",
     "traceback": [
      "\u001b[0;36m  File \u001b[0;32m\"<ipython-input-27-9d103547ca73>\"\u001b[0;36m, line \u001b[0;32m1\u001b[0m\n\u001b[0;31m    you no longer want the original shape, the easiest is just to assign a new shape to the array\u001b[0m\n\u001b[0m         ^\u001b[0m\n\u001b[0;31mSyntaxError\u001b[0m\u001b[0;31m:\u001b[0m invalid syntax\n"
     ]
    }
   ],
   "source": [
    "num_test = X.shape[0]\n",
    "num_train = X_train.shape[0]\n",
    "dists = np.zeros((num_test, num_train)) \n",
    "\n",
    "tr2 = (X_train ** 2).sum(axis = 1).reshape(1, X_train.shape[0])\n",
    "tst2 = (X ** 2).T.sum(axis = 0).reshape(X.shape[0],1)\n",
    "\n",
    "AxB = 2 * np.matmul(X, X_train.T)\n",
    "\n",
    "a2xb2 = np.matmul(tst2, tr2)\n",
    "\n",
    "dists = a2xb2 - AxB"
   ]
  },
  {
   "cell_type": "code",
   "execution_count": null,
   "metadata": {
    "collapsed": true
   },
   "outputs": [],
   "source": []
  }
 ],
 "metadata": {
  "kernelspec": {
   "display_name": "Python 2",
   "language": "python",
   "name": "python2"
  },
  "language_info": {
   "codemirror_mode": {
    "name": "ipython",
    "version": 2
   },
   "file_extension": ".py",
   "mimetype": "text/x-python",
   "name": "python",
   "nbconvert_exporter": "python",
   "pygments_lexer": "ipython2",
   "version": "2.7.13"
  }
 },
 "nbformat": 4,
 "nbformat_minor": 2
}
